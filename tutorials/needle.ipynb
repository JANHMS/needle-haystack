{
 "cells": [
  {
   "cell_type": "code",
   "execution_count": 10,
   "metadata": {},
   "outputs": [],
   "source": [
    "import os\n",
    "from openai import OpenAI"
   ]
  },
  {
   "cell_type": "code",
   "execution_count": 11,
   "metadata": {},
   "outputs": [],
   "source": [
    "os.environ[\"NEEDLE_API_KEY\"] = \"\"\n"
   ]
  },
  {
   "cell_type": "code",
   "execution_count": 12,
   "metadata": {},
   "outputs": [],
   "source": [
    "os.environ[\"OPENAI_API_KEY\"] = \"\""
   ]
  },
  {
   "cell_type": "code",
   "execution_count": 13,
   "metadata": {},
   "outputs": [
    {
     "data": {
      "text/plain": [
       "{'create_collection': {'collection_id': 'clt_01J5DP79XP6XHZ1W4KC0BSRBFG'}}"
      ]
     },
     "execution_count": 13,
     "metadata": {},
     "output_type": "execute_result"
    }
   ],
   "source": [
    "from haystack import Pipeline\n",
    "from needle_haystack import HaystackNeedleCreateCollection, HaystackNeedleAddFiles, HaystackNeedleSearch\n",
    "\n",
    "# Initialize components\n",
    "create_collection = HaystackNeedleCreateCollection()\n",
    "add_files = HaystackNeedleAddFiles()\n",
    "search = HaystackNeedleSearch()\n",
    "\n",
    "# Define the pipeline\n",
    "pipeline = Pipeline()\n",
    "pipeline.add_component(name=\"create_collection\", instance=create_collection)\n",
    "\n",
    "# Define inputs for the pipeline\n",
    "inputs = {\n",
    "    \"create_collection\": {\"name\": \"Tech Trends\"}\n",
    "}\n",
    "\n",
    "# Run the pipeline\n",
    "collection = pipeline.run(data=inputs)\n",
    "collection"
   ]
  },
  {
   "cell_type": "code",
   "execution_count": 14,
   "metadata": {},
   "outputs": [],
   "source": [
    "## NOW ADD FILES TO COLLECTION"
   ]
  },
  {
   "cell_type": "code",
   "execution_count": 15,
   "metadata": {},
   "outputs": [],
   "source": [
    "inputs = {       \n",
    "    \"add_files\": {\n",
    "        \"collection_id\": collection['create_collection']['collection_id'],\n",
    "        \"file_urls\": {\n",
    "            \"tech-radar-30.pdf\": \"https://www.thoughtworks.com/content/dam/thoughtworks/documents/radar/2024/04/tr_technology_radar_vol_30_en.pdf\"\n",
    "        }\n",
    "    }\n",
    "}"
   ]
  },
  {
   "cell_type": "code",
   "execution_count": 16,
   "metadata": {},
   "outputs": [],
   "source": [
    "pipeline_add_files = Pipeline()\n",
    "pipeline_add_files.add_component(name=\"add_files\", instance=add_files)"
   ]
  },
  {
   "cell_type": "code",
   "execution_count": 17,
   "metadata": {},
   "outputs": [
    {
     "data": {
      "text/plain": [
       "{'add_files': {'file_ids': {'tech-radar-30.pdf': 'fle_01J5DP7SFXH7X5X0645X3HKRM9'}}}"
      ]
     },
     "execution_count": 17,
     "metadata": {},
     "output_type": "execute_result"
    }
   ],
   "source": [
    "files = pipeline_add_files.run(data=inputs)\n",
    "files"
   ]
  },
  {
   "cell_type": "code",
   "execution_count": 9,
   "metadata": {},
   "outputs": [],
   "source": [
    "## SEARCH THE COLLECTION"
   ]
  },
  {
   "cell_type": "code",
   "execution_count": 18,
   "metadata": {},
   "outputs": [],
   "source": [
    "pipeline_search = Pipeline()\n",
    "pipeline_search.add_component(name=\"search\", instance=search)"
   ]
  },
  {
   "cell_type": "code",
   "execution_count": 19,
   "metadata": {},
   "outputs": [],
   "source": [
    "inputs = {    \n",
    "    \"search\": {\n",
    "        \"collection_id\": collection['create_collection']['collection_id'],\n",
    "        \"text\": \"What techniques moved into adopt in this volume of technology radar?\"\n",
    "    }\n",
    "}"
   ]
  },
  {
   "cell_type": "code",
   "execution_count": 20,
   "metadata": {},
   "outputs": [
    {
     "data": {
      "text/plain": [
       "{'search': {'results': [SearchResult(content='The Radar captures the output of the Technology Advisory Board’s discussions in a format that \\nprovides value to a wide range of stakeholders, from developers to CTOs. The content is intended  \\nas a concise summary.\\n\\nWe encourage you to explore these technologies. The Radar is graphical in nature, grouping items  \\ninto techniques, tools, platforms and languages and frameworks. When Radar items could appear  \\nin multiple quadrants, we chose the one that seemed most appropriate. We further group these  \\nitems in four rings to reflect our current position on them.\\n\\nFor more background on the Radar, see thoughtworks.com/radar/faq.\\n\\nhttps://ter.li/uqtk7y\\n\\n© Thoughtworks, Inc. All Rights Reserved. 4\\n\\nThoughtworks Technology Radar\\n\\nOur Radar is forward-looking. To make room for new items, we fade items that haven’t moved \\nrecently, which isn’t a reflection on their value but rather on our limited Radar real estate.\\n\\nHold Assess Trial Adopt\\n\\nAdopt: We feel strongly that the industry \\nshould be adopting these items. We use \\nthem when appropriate in our projects.', file_id='fle_01J5DP7SFXH7X5X0645X3HKRM9'),\n",
       "   SearchResult(content='Trial: Worth pursuing. It’s important to \\nunderstand how to build up this capability. \\nEnterprises can try this technology on a \\nproject that can handle the risk.\\n\\nAssess: Worth exploring with the goal of  \\nunderstanding how it will affect \\nyour enterprise.\\n\\nHold: Proceed with caution.\\n\\nNew Moved in/out No change\\n\\nRadar at a glance\\nThe Radar is all about tracking interesting things, which we refer to as blips. We organize the blips in \\nthe Radar using two categorizing elements: quadrants and rings. The quadrants represent different \\nkinds of blips. The rings indicate our recommendation for using that technology.\\n\\nA blip is a technology or technique that plays a role in software development. Blips are ‘in motion’ \\n— their position in the Radar often changes — usually indicating our increasing confidence in \\nrecommending them as they move through the rings.\\n\\n© Thoughtworks, Inc. All Rights Reserved. 5\\n\\nContributors\\nThe Technology Advisory Board (TAB) is a group of 22 senior technologists at Thoughtworks.  \\nThe TAB meets twice a year face-to-face and biweekly virtually. Its primary role is to be an  \\nadvisory group for Thoughtworks CTO, Rachel Laycock, and CTO Emerita, Rebecca Parsons.', file_id='fle_01J5DP7SFXH7X5X0645X3HKRM9'),\n",
       "   SearchResult(content='Hold\\n—\\n\\nTechniques Platforms\\n\\nThe Radar\\n\\n© Thoughtworks, Inc. All Rights Reserved.\\n\\nAdopt\\n44. Conan\\n45. Kaniko\\n46. Karpenter\\n\\nTrial\\n47. 42Crunch API Conformance Scan\\n48. actions-runner-controller\\n49. Android Emulator Container\\n50. AWS CUDOS\\n51. aws-nuke\\n52. Bruno\\n53. Develocity\\n54. GitHub Copilot\\n55. Gradio\\n56. Gradle Version Catalog\\n57. Maestro\\n58. Microsoft SBOM tool\\n59. Open Policy Agent (OPA)\\n60. Philips’s self-hosted GitHub runner\\n61. Pop\\n62. Renovate\\n63. Terrascan\\n64. Velero\\n\\nAssess\\n65. aider\\n66. Akvorado\\n67. Baichuan 2\\n68. Cargo Lambda\\n69. Codium AI\\n70. Continue\\n71. Fern Docs\\n72. Granted\\n73. LinearB\\n74. LLaVA\\n75. Marimo\\n76. Mixtral\\n77. NeMo Guardrails\\n78. Ollama\\n79. OpenTofu\\n80. QAnything\\n81. System Initiative\\n82. Tetragon\\n83. Winglang\\n\\nHold\\n—\\n\\nAdopt \\n—\\n\\nTrial\\n84. Astro\\n85. DataComPy\\n86. Pinia\\n87. Ray\\n\\nAssess\\n88. Android Adaptability\\n89. Concrete ML\\n90. Crabviz\\n91. Crux\\n92. Databricks Asset Bundles\\n93. Electric\\n94. LiteLLM\\n95. LLaMA-Factory\\n96. MLX\\n97. Mojo\\n98. Otter\\n99. Pkl\\n100. Rust for UI\\n101. vLLM\\n102. Voyager\\n103. WGPU\\n104. Zig', file_id='fle_01J5DP7SFXH7X5X0645X3HKRM9'),\n",
       "   SearchResult(content='Thoughtworks Technology Radar\\n\\n© Thoughtworks, Inc. All Rights Reserved. 1\\n\\nAn opinionated guide to \\ntoday’s technology landscape\\n\\nTechnology \\nRadar April 2024\\n\\nVolume\\n\\n30\\n\\nhttps://ter.li/dgqw36\\nhttps://ter.li/nxf0c8\\nhttps://ter.li/nxf0c8\\n\\n© Thoughtworks, Inc. All Rights Reserved. 2\\n\\nAbout the Radar 3\\n\\nRadar at a glance 4\\n\\nContributors 5\\n\\nThemes 6\\n\\nThe Radar 8\\n\\nTechniques 11\\n\\nPlatforms 18\\n\\nTools 26\\n\\nLanguages and Frameworks 37\\n\\n© Thoughtworks, Inc. All Rights Reserved.\\n\\nThoughtworks Technology Radar\\n\\nAbout the Radar\\nThoughtworkers are passionate about technology. We build it, research it, test it, open source it, \\nwrite about it and constantly aim to improve it — for everyone. Our mission is to champion software \\nexcellence and revolutionize IT. We create and share the Thoughtworks Technology Radar in support \\nof that mission. The Thoughtworks Technology Advisory Board, a group of senior technology leaders \\nat Thoughtworks, creates the Radar. They meet regularly to discuss the global technology strategy for \\nThoughtworks and the technology trends that significantly impact our industry.', file_id='fle_01J5DP7SFXH7X5X0645X3HKRM9'),\n",
       "   SearchResult(content='Techniques\\n\\nhttps://www.thoughtworks.com/radar/techniques/retrieval-augmented-generation-rag\\nhttps://www.thoughtworks.com/radar/languages-and-frameworks/next-js\\nhttps://www.thoughtworks.com/radar/languages-and-frameworks/htmx\\nhttps://www.thoughtworks.com/radar/platforms/web-components-standard\\nhttps://www.thoughtworks.com/radar/languages-and-frameworks/stencil\\n\\n© Thoughtworks, Inc. All Rights Reserved.\\n\\nPlatforms\\n\\nHold HoldAssess AssessTrial TrialAdopt Adopt\\n\\n18\\n\\n8\\n\\n24\\n\\n29\\n\\n30\\n31\\n\\n32\\n33\\n\\n34 35\\n\\n36\\n37\\n\\n38 39\\n\\n40\\n41\\n\\n42\\n43\\n\\n26\\n\\n2\\n\\n3\\n\\n4\\n\\n5\\n\\n6 7\\n\\n9\\n\\n15\\n\\n16\\n\\n17\\n\\n10\\n\\n11\\n\\n12\\n\\n13 14\\n\\n44\\n\\n47\\n49\\n\\n50\\n\\n65\\n66\\n\\n67 68\\n69\\n\\n70\\n71\\n\\n72\\n\\n73 74\\n\\n75\\n\\n76 77\\n\\n78\\n79\\n\\n80\\n81\\n\\n82\\n\\n83\\n\\n51\\n\\n52 54\\n\\n59\\n\\n53\\n56\\n\\n58\\n\\n61\\n\\n62\\n63\\n\\n64\\n\\n85\\n\\n88 89\\n\\n90 91\\n\\n92\\n93\\n\\n94\\n95 96\\n\\n97\\n\\n98 99\\n\\n100\\n\\n101\\n102\\n\\n103\\n\\n104\\n\\n86\\n\\n87\\n1921\\n\\n22\\n\\n20\\n28\\n\\n25\\n\\n27\\n\\n23\\n\\n84\\n\\n105\\n\\n1\\n45\\n\\n46\\n\\n48\\n\\n55\\n57\\n\\n60\\n\\nAdopt\\n19. CloudEvents\\n\\nTrial\\n20. Arm in the cloud\\n21. Azure Container Apps\\n22. Azure OpenAI Service\\n23. DataHub\\n24. Infrastructure orchestration platforms\\n25. Pulumi\\n26. Rancher Desktop\\n27. Weights & Biases', file_id='fle_01J5DP7SFXH7X5X0645X3HKRM9')]}}"
      ]
     },
     "execution_count": 20,
     "metadata": {},
     "output_type": "execute_result"
    }
   ],
   "source": [
    "search_results = pipeline_search.run(data=inputs)\n",
    "search_results"
   ]
  },
  {
   "cell_type": "code",
   "execution_count": null,
   "metadata": {},
   "outputs": [],
   "source": []
  }
 ],
 "metadata": {
  "kernelspec": {
   "display_name": "needle-tutorial-Pi3Ihry5",
   "language": "python",
   "name": "python3"
  },
  "language_info": {
   "codemirror_mode": {
    "name": "ipython",
    "version": 3
   },
   "file_extension": ".py",
   "mimetype": "text/x-python",
   "name": "python",
   "nbconvert_exporter": "python",
   "pygments_lexer": "ipython3",
   "version": "3.11.9"
  }
 },
 "nbformat": 4,
 "nbformat_minor": 2
}
