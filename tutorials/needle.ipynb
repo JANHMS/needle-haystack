{
 "cells": [
  {
   "cell_type": "code",
   "execution_count": 1,
   "metadata": {},
   "outputs": [],
   "source": [
    "import os"
   ]
  },
  {
   "cell_type": "code",
   "execution_count": 2,
   "metadata": {},
   "outputs": [],
   "source": [
    "os.environ[\"NEEDLE_API_KEY\"] = \"\""
   ]
  },
  {
   "cell_type": "code",
   "execution_count": 3,
   "metadata": {},
   "outputs": [],
   "source": [
    "os.environ[\"OPENAI_API_KEY\"] = \"\""
   ]
  },
  {
   "cell_type": "markdown",
   "metadata": {},
   "source": [
    "# Document Store"
   ]
  },
  {
   "cell_type": "code",
   "execution_count": 35,
   "metadata": {},
   "outputs": [
    {
     "data": {
      "text/plain": [
       "1791"
      ]
     },
     "execution_count": 35,
     "metadata": {},
     "output_type": "execute_result"
    }
   ],
   "source": [
    "from needle_haystack import NeedleDocumentStore, NeedleEmbeddingRetriever\n",
    "document_store = NeedleDocumentStore(collection_id='clt_01J5QT9EQ818A1E8GABBPDY0AR') # Berlin City Assistant\n",
    "document_store.count_documents()"
   ]
  },
  {
   "cell_type": "markdown",
   "metadata": {},
   "source": [
    "### Test DocumentStore Serialization"
   ]
  },
  {
   "cell_type": "code",
   "execution_count": 6,
   "metadata": {},
   "outputs": [
    {
     "data": {
      "text/plain": [
       "1791"
      ]
     },
     "execution_count": 6,
     "metadata": {},
     "output_type": "execute_result"
    }
   ],
   "source": [
    "ds_serialized = document_store.to_dict()\n",
    "document_store_deserialized = NeedleDocumentStore.from_dict(ds_serialized)\n",
    "document_store_deserialized.count_documents()"
   ]
  },
  {
   "cell_type": "markdown",
   "metadata": {},
   "source": [
    "# NeedleEmbeddingRetriever"
   ]
  },
  {
   "cell_type": "code",
   "execution_count": 30,
   "metadata": {},
   "outputs": [],
   "source": [
    "prompt = \"I just moved in my new apartment. What do i need to do now?\""
   ]
  },
  {
   "cell_type": "code",
   "execution_count": 31,
   "metadata": {},
   "outputs": [
    {
     "name": "stdout",
     "output_type": "stream",
     "text": [
      "{'documents': [Document(id=b75fbb45606c3b9308d846f44818e4945eb487ec630c1a08437db26c63fc5ac0, content: 'How to move into an apartment in Germany \\- All About Berlin\n",
      "\n",
      "[All About Berlin](https://allaboutber...', meta: {'file_id': 'fle_01J5R2VS009EGZ9W7EGD2AQTKG'}), Document(id=e03297a3a40e066d4e5e31e99b9c6c0b748f617786d10d6daa89e72e3c37e0af, content: 'Use them to apply for the apartment during the visit. Keep the originals.\n",
      "\n",
      "**Combine your documents*...', meta: {'file_id': 'fle_01J5R2VRZXGN2FBR5WN5TVV26V'}), Document(id=c993e3eac9cea6d2c9aa0db2239a56da2ab80ac73ecd2e73c0dddc1b4e024e06, content: 'On this page\n",
      "------------\n",
      "\n",
      "1. [Before the move](#before-the-move)\n",
      "\t1. [Visit the apartment](#visit-t...', meta: {'file_id': 'fle_01J5R2VS009EGZ9W7EGD2AQTKG'}), Document(id=c1b116150209c970b47e1402085e66f4ef5e18a8f49bd8b32c7adaba65497b95, content: 'How to move out of an apartment in Germany \\- All About Berlin\n",
      "\n",
      "[All About Berlin](https://allaboutb...', meta: {'file_id': 'fle_01J5R2VS019N0KEDQ7CVX5GEN8'}), Document(id=f0bc86e0d562b06db36b4a3d4f177834626bef76ec5bf68e37d86d47e48a57f7, content: 'On this page\n",
      "------------\n",
      "\n",
      "1. [Is it hard to find an apartment?](#is-it-hard-to-find-an-apartment)\n",
      "2...', meta: {'file_id': 'fle_01J5R2VRZXGN2FBR5WN5TVV26V'})]}\n"
     ]
    }
   ],
   "source": [
    "retriever = NeedleEmbeddingRetriever(document_store=document_store)\n",
    "result = retriever.run(text=prompt)\n",
    "print(result)"
   ]
  },
  {
   "cell_type": "markdown",
   "metadata": {},
   "source": [
    "### Test NeedleEmbeddingRetriever Serialization"
   ]
  },
  {
   "cell_type": "code",
   "execution_count": 32,
   "metadata": {},
   "outputs": [
    {
     "name": "stdout",
     "output_type": "stream",
     "text": [
      "{'documents': [Document(id=b75fbb45606c3b9308d846f44818e4945eb487ec630c1a08437db26c63fc5ac0, content: 'How to move into an apartment in Germany \\- All About Berlin\n",
      "\n",
      "[All About Berlin](https://allaboutber...', meta: {'file_id': 'fle_01J5R2VS009EGZ9W7EGD2AQTKG'}), Document(id=e03297a3a40e066d4e5e31e99b9c6c0b748f617786d10d6daa89e72e3c37e0af, content: 'Use them to apply for the apartment during the visit. Keep the originals.\n",
      "\n",
      "**Combine your documents*...', meta: {'file_id': 'fle_01J5R2VRZXGN2FBR5WN5TVV26V'}), Document(id=c993e3eac9cea6d2c9aa0db2239a56da2ab80ac73ecd2e73c0dddc1b4e024e06, content: 'On this page\n",
      "------------\n",
      "\n",
      "1. [Before the move](#before-the-move)\n",
      "\t1. [Visit the apartment](#visit-t...', meta: {'file_id': 'fle_01J5R2VS009EGZ9W7EGD2AQTKG'}), Document(id=c1b116150209c970b47e1402085e66f4ef5e18a8f49bd8b32c7adaba65497b95, content: 'How to move out of an apartment in Germany \\- All About Berlin\n",
      "\n",
      "[All About Berlin](https://allaboutb...', meta: {'file_id': 'fle_01J5R2VS019N0KEDQ7CVX5GEN8'}), Document(id=f0bc86e0d562b06db36b4a3d4f177834626bef76ec5bf68e37d86d47e48a57f7, content: 'On this page\n",
      "------------\n",
      "\n",
      "1. [Is it hard to find an apartment?](#is-it-hard-to-find-an-apartment)\n",
      "2...', meta: {'file_id': 'fle_01J5R2VRZXGN2FBR5WN5TVV26V'})]}\n"
     ]
    }
   ],
   "source": [
    "r_serialized = retriever.to_dict()\n",
    "r_serialized\n",
    "retriever_deserialized = NeedleEmbeddingRetriever.from_dict(r_serialized)\n",
    "result = retriever_deserialized.run(text=prompt)\n",
    "print(result)"
   ]
  },
  {
   "cell_type": "code",
   "execution_count": 8,
   "metadata": {},
   "outputs": [
    {
     "name": "stdout",
     "output_type": "stream",
     "text": [
      "{'documents': [Document(id=5eed47be802ba7b4204abc8a534a0d2a14face8a225f53ee6c71287f0fa5b889, content: '* [Business \\& Sales](https://corporate.dw.com/de/business-sales/s-3086 \"Externer Link — Business & ...', meta: {'file_id': 'fle_01J5ZPM5VGJ3RSXM4KT8KS4DXR'}), Document(id=d479659c22a6aeb0e8c386112fff5889e9f2a272c1d80dbbda3e9e7d3038f3c5, content: 'Pakistans neuer Nationalheld: Speerwurf\\-Olympiasieger Nadeem – DW – 09\\.08\\.2024\n",
      "\n",
      "You need to enabl...', meta: {'file_id': 'fle_01J5ZPM5VGJ3RSXM4KT8KS4DXR'})]}\n"
     ]
    }
   ],
   "source": []
  },
  {
   "cell_type": "code",
   "execution_count": 33,
   "metadata": {},
   "outputs": [
    {
     "data": {
      "text/plain": [
       "<haystack.core.pipeline.pipeline.Pipeline object at 0x7f95e860e470>\n",
       "🚅 Components\n",
       "  - retriever: NeedleEmbeddingRetriever\n",
       "  - prompt_builder: PromptBuilder\n",
       "  - llm: OpenAIGenerator\n",
       "🛤️ Connections\n",
       "  - retriever.documents -> prompt_builder.documents (List[Document])\n",
       "  - prompt_builder.prompt -> llm.prompt (str)"
      ]
     },
     "execution_count": 33,
     "metadata": {},
     "output_type": "execute_result"
    }
   ],
   "source": [
    "from haystack import Pipeline\n",
    "from haystack.utils import Secret\n",
    "from haystack.components.generators import OpenAIGenerator\n",
    "from haystack.components.builders import PromptBuilder  # Correct import for PromptBuilder\n",
    "\n",
    "# Set up a prompt template for the PromptBuilder\n",
    "prompt_template = \"\"\"\n",
    "Given the following retrieved documents, generate a concise and informative answer to the query:\n",
    "\n",
    "Query: {{query}}\n",
    "Documents:\n",
    "{% for doc in documents %}\n",
    "    {{ doc.content }}\n",
    "{% endfor %}\n",
    "\n",
    "Answer:\n",
    "\"\"\"\n",
    "\n",
    "# Initialize the PromptBuilder\n",
    "prompt_builder = PromptBuilder(template=prompt_template)\n",
    "\n",
    "# Initialize the OpenAIGenerator with the API key\n",
    "llm = OpenAIGenerator()\n",
    "\n",
    "# Build the pipeline\n",
    "basic_rag_pipeline = Pipeline()\n",
    "basic_rag_pipeline.add_component(\"retriever\", retriever)\n",
    "basic_rag_pipeline.add_component(\"prompt_builder\", prompt_builder)\n",
    "basic_rag_pipeline.add_component(\"llm\", llm)\n",
    "\n",
    "# Connect the components\n",
    "basic_rag_pipeline.connect(\"retriever\", \"prompt_builder.documents\")\n",
    "basic_rag_pipeline.connect(\"prompt_builder\", \"llm\")\n"
   ]
  },
  {
   "cell_type": "code",
   "execution_count": 34,
   "metadata": {},
   "outputs": [
    {
     "name": "stdout",
     "output_type": "stream",
     "text": [
      "Final generated result:\n",
      "After moving into your new apartment, you should first visit the apartment, sign the lease, get the keys, pay the deposit, and set up an internet contract. After moving in, remember to put your name on the mailbox, register your address, get an electricity contract, buy furniture and appliances, install light fixtures, change your address, get liability insurance, defend your rights, and lower your rent. Additionally, make sure to stop junk mail, deduct your moving costs, and consider getting a PDF merging tool to organize your documents for the landlord.\n"
     ]
    }
   ],
   "source": [
    "# Run the full pipeline\n",
    "result = basic_rag_pipeline.run({\n",
    "    \"retriever\": {\"text\": prompt},\n",
    "    \"prompt_builder\": {\"query\": prompt}\n",
    "})\n",
    "\n",
    "# Print the final result generated by the LLM\n",
    "print(\"Final generated result:\")\n",
    "\n",
    "print(result['llm']['replies'][0])"
   ]
  }
 ],
 "metadata": {
  "kernelspec": {
   "display_name": "needle-tutorial-Pi3Ihry5",
   "language": "python",
   "name": "python3"
  },
  "language_info": {
   "codemirror_mode": {
    "name": "ipython",
    "version": 3
   },
   "file_extension": ".py",
   "mimetype": "text/x-python",
   "name": "python",
   "nbconvert_exporter": "python",
   "pygments_lexer": "ipython3",
   "version": "3.10.4"
  }
 },
 "nbformat": 4,
 "nbformat_minor": 2
}
